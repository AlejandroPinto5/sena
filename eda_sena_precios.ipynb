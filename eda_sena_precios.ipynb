{
  "nbformat": 4,
  "nbformat_minor": 0,
  "metadata": {
    "colab": {
      "provenance": [],
      "authorship_tag": "ABX9TyMRnfCaSS9k7Sj9Nrayj13x",
      "include_colab_link": true
    },
    "kernelspec": {
      "name": "python3",
      "display_name": "Python 3"
    },
    "language_info": {
      "name": "python"
    }
  },
  "cells": [
    {
      "cell_type": "markdown",
      "metadata": {
        "id": "view-in-github",
        "colab_type": "text"
      },
      "source": [
        "<a href=\"https://colab.research.google.com/github/AlejandroPinto5/sena/blob/main/eda_sena_precios.ipynb\" target=\"_parent\"><img src=\"https://colab.research.google.com/assets/colab-badge.svg\" alt=\"Open In Colab\"/></a>"
      ]
    },
    {
      "cell_type": "code",
      "execution_count": 1,
      "metadata": {
        "id": "J-wtXxa3NElE"
      },
      "outputs": [],
      "source": [
        "#Importing libraries\n",
        "import pandas as pd\n",
        "import numpy as np\n",
        "import matplotlib.pyplot as plt\n",
        "import seaborn as sb"
      ]
    },
    {
      "cell_type": "code",
      "source": [
        "#Reading dataset\n",
        "url = 'https://raw.githubusercontent.com/AlejandroPinto5/sena/main/Data_Caso_Propuesto.csv'\n",
        "df = pd.read_csv(url)\n",
        "df.head()"
      ],
      "metadata": {
        "colab": {
          "base_uri": "https://localhost:8080/",
          "height": 531
        },
        "id": "HYwRBOlkOI4M",
        "outputId": "5b3775a9-9077-43c9-ae17-0b69dc31625e"
      },
      "execution_count": 42,
      "outputs": [
        {
          "output_type": "execute_result",
          "data": {
            "text/plain": [
              "   Codigo    Ciudad     Departamento             Barrio  \\\n",
              "0   17180    BOGOTA     CUNDINAMARCA                NaN   \n",
              "1   19292    BOGOTA     CUNDINAMARCA                NaN   \n",
              "2   19292    BOGOTA     CUNDINAMARCA                NaN   \n",
              "3    2575  SOGAMOSO           BOYACÁ             CENTRO   \n",
              "4   11409      BUGA  VALLE DEL CAUCA  VEREDA CHAMBIMBAL   \n",
              "\n",
              "                                           Direccion  Area Terreno  \\\n",
              "0                          AV CR 7 NO. 166 - 51 LT B          0.00   \n",
              "1                                  CL 72 No. 12 - 77          0.00   \n",
              "2                                  CL 72 No. 12 - 77          0.00   \n",
              "3  CRA. 10 #11- 78/80 Ó CL 12 # 9 - 77/85 Ó CALLE...       1655.08   \n",
              "4  LT A1-A24 B1-B79 C1-C51 D1-D9 STA ROSA LT1-46 ...    3217197.00   \n",
              "\n",
              "   Area Construida            Detalle Disponibilidad    Estrato        Precio  \\\n",
              "0              0.0   COMERCIALIZABLE CON RESTRICCION       TRES  2.958081e+10   \n",
              "1              0.0                   COMERCIALIZABLE  COMERCIAL  1.646059e+10   \n",
              "2              0.0  COMERCIALIZABLE VENTA ANTICIPADA  COMERCIAL  1.646059e+10   \n",
              "3           7269.0   COMERCIALIZABLE CON RESTRICCION     CUATRO  1.376828e+10   \n",
              "4          22724.0           COMERCIALIZABLE FIDUCIA      RURAL  4.523379e+10   \n",
              "\n",
              "  Tipo de Inmueble                                  Datos Adicionales  \n",
              "0   LOTE COMERCIAL  ESTE INMUEBLE SE COMERCIALIZARÁ A TRAVES DE SU...  \n",
              "1         EDIFICIO                                                NaN  \n",
              "2         EDIFICIO                                                NaN  \n",
              "3          CLINICA  ESTE INMUEBLE SE COMERCIALIZARÁ A TRAVÉS DE SU...  \n",
              "4       LOTE MIXTO                                                NaN  "
            ],
            "text/html": [
              "\n",
              "  <div id=\"df-6a175509-cea8-47e0-bae8-407a7f714c33\">\n",
              "    <div class=\"colab-df-container\">\n",
              "      <div>\n",
              "<style scoped>\n",
              "    .dataframe tbody tr th:only-of-type {\n",
              "        vertical-align: middle;\n",
              "    }\n",
              "\n",
              "    .dataframe tbody tr th {\n",
              "        vertical-align: top;\n",
              "    }\n",
              "\n",
              "    .dataframe thead th {\n",
              "        text-align: right;\n",
              "    }\n",
              "</style>\n",
              "<table border=\"1\" class=\"dataframe\">\n",
              "  <thead>\n",
              "    <tr style=\"text-align: right;\">\n",
              "      <th></th>\n",
              "      <th>Codigo</th>\n",
              "      <th>Ciudad</th>\n",
              "      <th>Departamento</th>\n",
              "      <th>Barrio</th>\n",
              "      <th>Direccion</th>\n",
              "      <th>Area Terreno</th>\n",
              "      <th>Area Construida</th>\n",
              "      <th>Detalle Disponibilidad</th>\n",
              "      <th>Estrato</th>\n",
              "      <th>Precio</th>\n",
              "      <th>Tipo de Inmueble</th>\n",
              "      <th>Datos Adicionales</th>\n",
              "    </tr>\n",
              "  </thead>\n",
              "  <tbody>\n",
              "    <tr>\n",
              "      <th>0</th>\n",
              "      <td>17180</td>\n",
              "      <td>BOGOTA</td>\n",
              "      <td>CUNDINAMARCA</td>\n",
              "      <td>NaN</td>\n",
              "      <td>AV CR 7 NO. 166 - 51 LT B</td>\n",
              "      <td>0.00</td>\n",
              "      <td>0.0</td>\n",
              "      <td>COMERCIALIZABLE CON RESTRICCION</td>\n",
              "      <td>TRES</td>\n",
              "      <td>2.958081e+10</td>\n",
              "      <td>LOTE COMERCIAL</td>\n",
              "      <td>ESTE INMUEBLE SE COMERCIALIZARÁ A TRAVES DE SU...</td>\n",
              "    </tr>\n",
              "    <tr>\n",
              "      <th>1</th>\n",
              "      <td>19292</td>\n",
              "      <td>BOGOTA</td>\n",
              "      <td>CUNDINAMARCA</td>\n",
              "      <td>NaN</td>\n",
              "      <td>CL 72 No. 12 - 77</td>\n",
              "      <td>0.00</td>\n",
              "      <td>0.0</td>\n",
              "      <td>COMERCIALIZABLE</td>\n",
              "      <td>COMERCIAL</td>\n",
              "      <td>1.646059e+10</td>\n",
              "      <td>EDIFICIO</td>\n",
              "      <td>NaN</td>\n",
              "    </tr>\n",
              "    <tr>\n",
              "      <th>2</th>\n",
              "      <td>19292</td>\n",
              "      <td>BOGOTA</td>\n",
              "      <td>CUNDINAMARCA</td>\n",
              "      <td>NaN</td>\n",
              "      <td>CL 72 No. 12 - 77</td>\n",
              "      <td>0.00</td>\n",
              "      <td>0.0</td>\n",
              "      <td>COMERCIALIZABLE VENTA ANTICIPADA</td>\n",
              "      <td>COMERCIAL</td>\n",
              "      <td>1.646059e+10</td>\n",
              "      <td>EDIFICIO</td>\n",
              "      <td>NaN</td>\n",
              "    </tr>\n",
              "    <tr>\n",
              "      <th>3</th>\n",
              "      <td>2575</td>\n",
              "      <td>SOGAMOSO</td>\n",
              "      <td>BOYACÁ</td>\n",
              "      <td>CENTRO</td>\n",
              "      <td>CRA. 10 #11- 78/80 Ó CL 12 # 9 - 77/85 Ó CALLE...</td>\n",
              "      <td>1655.08</td>\n",
              "      <td>7269.0</td>\n",
              "      <td>COMERCIALIZABLE CON RESTRICCION</td>\n",
              "      <td>CUATRO</td>\n",
              "      <td>1.376828e+10</td>\n",
              "      <td>CLINICA</td>\n",
              "      <td>ESTE INMUEBLE SE COMERCIALIZARÁ A TRAVÉS DE SU...</td>\n",
              "    </tr>\n",
              "    <tr>\n",
              "      <th>4</th>\n",
              "      <td>11409</td>\n",
              "      <td>BUGA</td>\n",
              "      <td>VALLE DEL CAUCA</td>\n",
              "      <td>VEREDA CHAMBIMBAL</td>\n",
              "      <td>LT A1-A24 B1-B79 C1-C51 D1-D9 STA ROSA LT1-46 ...</td>\n",
              "      <td>3217197.00</td>\n",
              "      <td>22724.0</td>\n",
              "      <td>COMERCIALIZABLE FIDUCIA</td>\n",
              "      <td>RURAL</td>\n",
              "      <td>4.523379e+10</td>\n",
              "      <td>LOTE MIXTO</td>\n",
              "      <td>NaN</td>\n",
              "    </tr>\n",
              "  </tbody>\n",
              "</table>\n",
              "</div>\n",
              "      <button class=\"colab-df-convert\" onclick=\"convertToInteractive('df-6a175509-cea8-47e0-bae8-407a7f714c33')\"\n",
              "              title=\"Convert this dataframe to an interactive table.\"\n",
              "              style=\"display:none;\">\n",
              "        \n",
              "  <svg xmlns=\"http://www.w3.org/2000/svg\" height=\"24px\"viewBox=\"0 0 24 24\"\n",
              "       width=\"24px\">\n",
              "    <path d=\"M0 0h24v24H0V0z\" fill=\"none\"/>\n",
              "    <path d=\"M18.56 5.44l.94 2.06.94-2.06 2.06-.94-2.06-.94-.94-2.06-.94 2.06-2.06.94zm-11 1L8.5 8.5l.94-2.06 2.06-.94-2.06-.94L8.5 2.5l-.94 2.06-2.06.94zm10 10l.94 2.06.94-2.06 2.06-.94-2.06-.94-.94-2.06-.94 2.06-2.06.94z\"/><path d=\"M17.41 7.96l-1.37-1.37c-.4-.4-.92-.59-1.43-.59-.52 0-1.04.2-1.43.59L10.3 9.45l-7.72 7.72c-.78.78-.78 2.05 0 2.83L4 21.41c.39.39.9.59 1.41.59.51 0 1.02-.2 1.41-.59l7.78-7.78 2.81-2.81c.8-.78.8-2.07 0-2.86zM5.41 20L4 18.59l7.72-7.72 1.47 1.35L5.41 20z\"/>\n",
              "  </svg>\n",
              "      </button>\n",
              "      \n",
              "  <style>\n",
              "    .colab-df-container {\n",
              "      display:flex;\n",
              "      flex-wrap:wrap;\n",
              "      gap: 12px;\n",
              "    }\n",
              "\n",
              "    .colab-df-convert {\n",
              "      background-color: #E8F0FE;\n",
              "      border: none;\n",
              "      border-radius: 50%;\n",
              "      cursor: pointer;\n",
              "      display: none;\n",
              "      fill: #1967D2;\n",
              "      height: 32px;\n",
              "      padding: 0 0 0 0;\n",
              "      width: 32px;\n",
              "    }\n",
              "\n",
              "    .colab-df-convert:hover {\n",
              "      background-color: #E2EBFA;\n",
              "      box-shadow: 0px 1px 2px rgba(60, 64, 67, 0.3), 0px 1px 3px 1px rgba(60, 64, 67, 0.15);\n",
              "      fill: #174EA6;\n",
              "    }\n",
              "\n",
              "    [theme=dark] .colab-df-convert {\n",
              "      background-color: #3B4455;\n",
              "      fill: #D2E3FC;\n",
              "    }\n",
              "\n",
              "    [theme=dark] .colab-df-convert:hover {\n",
              "      background-color: #434B5C;\n",
              "      box-shadow: 0px 1px 3px 1px rgba(0, 0, 0, 0.15);\n",
              "      filter: drop-shadow(0px 1px 2px rgba(0, 0, 0, 0.3));\n",
              "      fill: #FFFFFF;\n",
              "    }\n",
              "  </style>\n",
              "\n",
              "      <script>\n",
              "        const buttonEl =\n",
              "          document.querySelector('#df-6a175509-cea8-47e0-bae8-407a7f714c33 button.colab-df-convert');\n",
              "        buttonEl.style.display =\n",
              "          google.colab.kernel.accessAllowed ? 'block' : 'none';\n",
              "\n",
              "        async function convertToInteractive(key) {\n",
              "          const element = document.querySelector('#df-6a175509-cea8-47e0-bae8-407a7f714c33');\n",
              "          const dataTable =\n",
              "            await google.colab.kernel.invokeFunction('convertToInteractive',\n",
              "                                                     [key], {});\n",
              "          if (!dataTable) return;\n",
              "\n",
              "          const docLinkHtml = 'Like what you see? Visit the ' +\n",
              "            '<a target=\"_blank\" href=https://colab.research.google.com/notebooks/data_table.ipynb>data table notebook</a>'\n",
              "            + ' to learn more about interactive tables.';\n",
              "          element.innerHTML = '';\n",
              "          dataTable['output_type'] = 'display_data';\n",
              "          await google.colab.output.renderOutput(dataTable, element);\n",
              "          const docLink = document.createElement('div');\n",
              "          docLink.innerHTML = docLinkHtml;\n",
              "          element.appendChild(docLink);\n",
              "        }\n",
              "      </script>\n",
              "    </div>\n",
              "  </div>\n",
              "  "
            ]
          },
          "metadata": {},
          "execution_count": 42
        }
      ]
    },
    {
      "cell_type": "code",
      "source": [
        "df.shape"
      ],
      "metadata": {
        "colab": {
          "base_uri": "https://localhost:8080/"
        },
        "id": "pORhSepUrsdi",
        "outputId": "d62c4df8-15e5-46b6-e786-9343fbc8bfa2"
      },
      "execution_count": 3,
      "outputs": [
        {
          "output_type": "execute_result",
          "data": {
            "text/plain": [
              "(463, 12)"
            ]
          },
          "metadata": {},
          "execution_count": 3
        }
      ]
    },
    {
      "cell_type": "code",
      "source": [
        "#Checking NaN values\n",
        "df.isnull().sum()"
      ],
      "metadata": {
        "colab": {
          "base_uri": "https://localhost:8080/"
        },
        "id": "0ZN7tSFvWwpr",
        "outputId": "539489ff-e8ce-4ab8-d2c0-634ed59f3959"
      },
      "execution_count": 4,
      "outputs": [
        {
          "output_type": "execute_result",
          "data": {
            "text/plain": [
              "Codigo                      0\n",
              "Ciudad                      0\n",
              "Departamento                0\n",
              "Barrio                    423\n",
              "Direccion                   0\n",
              "Area Terreno                0\n",
              "Area Construida             0\n",
              "Detalle Disponibilidad      0\n",
              "Estrato                     0\n",
              "Precio                      0\n",
              "Tipo de Inmueble            0\n",
              "Datos Adicionales         345\n",
              "dtype: int64"
            ]
          },
          "metadata": {},
          "execution_count": 4
        }
      ]
    },
    {
      "cell_type": "code",
      "source": [
        "#Preprocessing: In this case, it drops null values\n",
        "df = df.dropna()"
      ],
      "metadata": {
        "id": "oH7-_xVIXK5B"
      },
      "execution_count": 5,
      "outputs": []
    },
    {
      "cell_type": "code",
      "source": [
        "#Checking NaN values\n",
        "df.isnull().sum()"
      ],
      "metadata": {
        "colab": {
          "base_uri": "https://localhost:8080/"
        },
        "id": "S2z5IH9IXQ_0",
        "outputId": "916d4acc-101f-41b7-e65a-689333bf0a00"
      },
      "execution_count": 6,
      "outputs": [
        {
          "output_type": "execute_result",
          "data": {
            "text/plain": [
              "Codigo                    0\n",
              "Ciudad                    0\n",
              "Departamento              0\n",
              "Barrio                    0\n",
              "Direccion                 0\n",
              "Area Terreno              0\n",
              "Area Construida           0\n",
              "Detalle Disponibilidad    0\n",
              "Estrato                   0\n",
              "Precio                    0\n",
              "Tipo de Inmueble          0\n",
              "Datos Adicionales         0\n",
              "dtype: int64"
            ]
          },
          "metadata": {},
          "execution_count": 6
        }
      ]
    },
    {
      "cell_type": "code",
      "source": [
        "df.shape"
      ],
      "metadata": {
        "colab": {
          "base_uri": "https://localhost:8080/"
        },
        "id": "DJOQ83Gf1NZ1",
        "outputId": "b9798cc0-87f4-46c6-8c76-e519a5242bea"
      },
      "execution_count": 7,
      "outputs": [
        {
          "output_type": "execute_result",
          "data": {
            "text/plain": [
              "(23, 12)"
            ]
          },
          "metadata": {},
          "execution_count": 7
        }
      ]
    },
    {
      "cell_type": "code",
      "source": [
        "#Checking variables\n",
        "df.info()"
      ],
      "metadata": {
        "colab": {
          "base_uri": "https://localhost:8080/"
        },
        "id": "rWN1TCnZXb7d",
        "outputId": "5ad1d414-2ae3-4ab0-abb0-3fabb70632db"
      },
      "execution_count": 8,
      "outputs": [
        {
          "output_type": "stream",
          "name": "stdout",
          "text": [
            "<class 'pandas.core.frame.DataFrame'>\n",
            "Int64Index: 23 entries, 3 to 462\n",
            "Data columns (total 12 columns):\n",
            " #   Column                  Non-Null Count  Dtype  \n",
            "---  ------                  --------------  -----  \n",
            " 0   Codigo                  23 non-null     int64  \n",
            " 1   Ciudad                  23 non-null     object \n",
            " 2   Departamento            23 non-null     object \n",
            " 3   Barrio                  23 non-null     object \n",
            " 4   Direccion               23 non-null     object \n",
            " 5   Area Terreno            23 non-null     float64\n",
            " 6   Area Construida         23 non-null     float64\n",
            " 7   Detalle Disponibilidad  23 non-null     object \n",
            " 8   Estrato                 23 non-null     object \n",
            " 9   Precio                  23 non-null     float64\n",
            " 10  Tipo de Inmueble        23 non-null     object \n",
            " 11  Datos Adicionales       23 non-null     object \n",
            "dtypes: float64(3), int64(1), object(8)\n",
            "memory usage: 2.3+ KB\n"
          ]
        }
      ]
    },
    {
      "cell_type": "code",
      "source": [
        "#Preprocessing: In this case, it drops duplicated values\n",
        "df1 = df.drop_duplicates()"
      ],
      "metadata": {
        "id": "2Lv8cpjYX50_"
      },
      "execution_count": 9,
      "outputs": []
    },
    {
      "cell_type": "code",
      "source": [
        "#Checking variables\n",
        "df.info()"
      ],
      "metadata": {
        "colab": {
          "base_uri": "https://localhost:8080/"
        },
        "id": "aXNbsxCAX8Va",
        "outputId": "6f8ab8b4-2839-427c-9742-680f820f96a7"
      },
      "execution_count": 10,
      "outputs": [
        {
          "output_type": "stream",
          "name": "stdout",
          "text": [
            "<class 'pandas.core.frame.DataFrame'>\n",
            "Int64Index: 23 entries, 3 to 462\n",
            "Data columns (total 12 columns):\n",
            " #   Column                  Non-Null Count  Dtype  \n",
            "---  ------                  --------------  -----  \n",
            " 0   Codigo                  23 non-null     int64  \n",
            " 1   Ciudad                  23 non-null     object \n",
            " 2   Departamento            23 non-null     object \n",
            " 3   Barrio                  23 non-null     object \n",
            " 4   Direccion               23 non-null     object \n",
            " 5   Area Terreno            23 non-null     float64\n",
            " 6   Area Construida         23 non-null     float64\n",
            " 7   Detalle Disponibilidad  23 non-null     object \n",
            " 8   Estrato                 23 non-null     object \n",
            " 9   Precio                  23 non-null     float64\n",
            " 10  Tipo de Inmueble        23 non-null     object \n",
            " 11  Datos Adicionales       23 non-null     object \n",
            "dtypes: float64(3), int64(1), object(8)\n",
            "memory usage: 2.3+ KB\n"
          ]
        }
      ]
    },
    {
      "cell_type": "code",
      "source": [
        "#Checking stats\n",
        "df.describe(include = 'all')"
      ],
      "metadata": {
        "colab": {
          "base_uri": "https://localhost:8080/",
          "height": 545
        },
        "id": "eqS2RjLaZT-z",
        "outputId": "b761edd7-2832-45ec-dd89-37f6114a20c2"
      },
      "execution_count": 11,
      "outputs": [
        {
          "output_type": "execute_result",
          "data": {
            "text/plain": [
              "              Codigo            Ciudad     Departamento          Barrio  \\\n",
              "count      23.000000                23               23              23   \n",
              "unique           NaN                 7                6               9   \n",
              "top              NaN  CALIMA EL DARIEN  VALLE DEL CAUCA  VEREDA PALERMO   \n",
              "freq             NaN                10               16              10   \n",
              "mean    12634.260870               NaN              NaN             NaN   \n",
              "std      3247.318491               NaN              NaN             NaN   \n",
              "min      2575.000000               NaN              NaN             NaN   \n",
              "25%     12113.500000               NaN              NaN             NaN   \n",
              "50%     12119.000000               NaN              NaN             NaN   \n",
              "75%     12708.500000               NaN              NaN             NaN   \n",
              "max     18959.000000               NaN              NaN             NaN   \n",
              "\n",
              "                                                Direccion  Area Terreno  \\\n",
              "count                                                  23  2.300000e+01   \n",
              "unique                                                 23           NaN   \n",
              "top     CRA. 10 #11- 78/80 Ó CL 12 # 9 - 77/85 Ó CALLE...           NaN   \n",
              "freq                                                    1           NaN   \n",
              "mean                                                  NaN  1.622327e+05   \n",
              "std                                                   NaN  4.558649e+05   \n",
              "min                                                   NaN  0.000000e+00   \n",
              "25%                                                   NaN  0.000000e+00   \n",
              "50%                                                   NaN  3.073000e+03   \n",
              "75%                                                   NaN  1.206272e+05   \n",
              "max                                                   NaN  2.187863e+06   \n",
              "\n",
              "        Area Construida           Detalle Disponibilidad Estrato  \\\n",
              "count         23.000000                               23      23   \n",
              "unique              NaN                                3       6   \n",
              "top                 NaN  COMERCIALIZABLE CON RESTRICCION   RURAL   \n",
              "freq                NaN                               11      13   \n",
              "mean         492.776522                              NaN     NaN   \n",
              "std         1537.481264                              NaN     NaN   \n",
              "min            0.000000                              NaN     NaN   \n",
              "25%            0.000000                              NaN     NaN   \n",
              "50%            0.000000                              NaN     NaN   \n",
              "75%           45.735000                              NaN     NaN   \n",
              "max         7269.000000                              NaN     NaN   \n",
              "\n",
              "              Precio Tipo de Inmueble  \\\n",
              "count   2.300000e+01               23   \n",
              "unique           NaN                7   \n",
              "top              NaN    LOTE VIVIENDA   \n",
              "freq             NaN               10   \n",
              "mean    1.770347e+09              NaN   \n",
              "std     2.936256e+09              NaN   \n",
              "min     1.534802e+07              NaN   \n",
              "25%     3.938667e+07              NaN   \n",
              "50%     8.375908e+08              NaN   \n",
              "75%     2.322155e+09              NaN   \n",
              "max     1.376828e+10              NaN   \n",
              "\n",
              "                                        Datos Adicionales  \n",
              "count                                                  23  \n",
              "unique                                                 12  \n",
              "top     CISA VENDE DERECHOS FIDUCIARIOS DEL 9.48%\\n\\nF...  \n",
              "freq                                                    6  \n",
              "mean                                                  NaN  \n",
              "std                                                   NaN  \n",
              "min                                                   NaN  \n",
              "25%                                                   NaN  \n",
              "50%                                                   NaN  \n",
              "75%                                                   NaN  \n",
              "max                                                   NaN  "
            ],
            "text/html": [
              "\n",
              "  <div id=\"df-83df6c7e-b3f4-4ef9-9301-04980f870fba\">\n",
              "    <div class=\"colab-df-container\">\n",
              "      <div>\n",
              "<style scoped>\n",
              "    .dataframe tbody tr th:only-of-type {\n",
              "        vertical-align: middle;\n",
              "    }\n",
              "\n",
              "    .dataframe tbody tr th {\n",
              "        vertical-align: top;\n",
              "    }\n",
              "\n",
              "    .dataframe thead th {\n",
              "        text-align: right;\n",
              "    }\n",
              "</style>\n",
              "<table border=\"1\" class=\"dataframe\">\n",
              "  <thead>\n",
              "    <tr style=\"text-align: right;\">\n",
              "      <th></th>\n",
              "      <th>Codigo</th>\n",
              "      <th>Ciudad</th>\n",
              "      <th>Departamento</th>\n",
              "      <th>Barrio</th>\n",
              "      <th>Direccion</th>\n",
              "      <th>Area Terreno</th>\n",
              "      <th>Area Construida</th>\n",
              "      <th>Detalle Disponibilidad</th>\n",
              "      <th>Estrato</th>\n",
              "      <th>Precio</th>\n",
              "      <th>Tipo de Inmueble</th>\n",
              "      <th>Datos Adicionales</th>\n",
              "    </tr>\n",
              "  </thead>\n",
              "  <tbody>\n",
              "    <tr>\n",
              "      <th>count</th>\n",
              "      <td>23.000000</td>\n",
              "      <td>23</td>\n",
              "      <td>23</td>\n",
              "      <td>23</td>\n",
              "      <td>23</td>\n",
              "      <td>2.300000e+01</td>\n",
              "      <td>23.000000</td>\n",
              "      <td>23</td>\n",
              "      <td>23</td>\n",
              "      <td>2.300000e+01</td>\n",
              "      <td>23</td>\n",
              "      <td>23</td>\n",
              "    </tr>\n",
              "    <tr>\n",
              "      <th>unique</th>\n",
              "      <td>NaN</td>\n",
              "      <td>7</td>\n",
              "      <td>6</td>\n",
              "      <td>9</td>\n",
              "      <td>23</td>\n",
              "      <td>NaN</td>\n",
              "      <td>NaN</td>\n",
              "      <td>3</td>\n",
              "      <td>6</td>\n",
              "      <td>NaN</td>\n",
              "      <td>7</td>\n",
              "      <td>12</td>\n",
              "    </tr>\n",
              "    <tr>\n",
              "      <th>top</th>\n",
              "      <td>NaN</td>\n",
              "      <td>CALIMA EL DARIEN</td>\n",
              "      <td>VALLE DEL CAUCA</td>\n",
              "      <td>VEREDA PALERMO</td>\n",
              "      <td>CRA. 10 #11- 78/80 Ó CL 12 # 9 - 77/85 Ó CALLE...</td>\n",
              "      <td>NaN</td>\n",
              "      <td>NaN</td>\n",
              "      <td>COMERCIALIZABLE CON RESTRICCION</td>\n",
              "      <td>RURAL</td>\n",
              "      <td>NaN</td>\n",
              "      <td>LOTE VIVIENDA</td>\n",
              "      <td>CISA VENDE DERECHOS FIDUCIARIOS DEL 9.48%\\n\\nF...</td>\n",
              "    </tr>\n",
              "    <tr>\n",
              "      <th>freq</th>\n",
              "      <td>NaN</td>\n",
              "      <td>10</td>\n",
              "      <td>16</td>\n",
              "      <td>10</td>\n",
              "      <td>1</td>\n",
              "      <td>NaN</td>\n",
              "      <td>NaN</td>\n",
              "      <td>11</td>\n",
              "      <td>13</td>\n",
              "      <td>NaN</td>\n",
              "      <td>10</td>\n",
              "      <td>6</td>\n",
              "    </tr>\n",
              "    <tr>\n",
              "      <th>mean</th>\n",
              "      <td>12634.260870</td>\n",
              "      <td>NaN</td>\n",
              "      <td>NaN</td>\n",
              "      <td>NaN</td>\n",
              "      <td>NaN</td>\n",
              "      <td>1.622327e+05</td>\n",
              "      <td>492.776522</td>\n",
              "      <td>NaN</td>\n",
              "      <td>NaN</td>\n",
              "      <td>1.770347e+09</td>\n",
              "      <td>NaN</td>\n",
              "      <td>NaN</td>\n",
              "    </tr>\n",
              "    <tr>\n",
              "      <th>std</th>\n",
              "      <td>3247.318491</td>\n",
              "      <td>NaN</td>\n",
              "      <td>NaN</td>\n",
              "      <td>NaN</td>\n",
              "      <td>NaN</td>\n",
              "      <td>4.558649e+05</td>\n",
              "      <td>1537.481264</td>\n",
              "      <td>NaN</td>\n",
              "      <td>NaN</td>\n",
              "      <td>2.936256e+09</td>\n",
              "      <td>NaN</td>\n",
              "      <td>NaN</td>\n",
              "    </tr>\n",
              "    <tr>\n",
              "      <th>min</th>\n",
              "      <td>2575.000000</td>\n",
              "      <td>NaN</td>\n",
              "      <td>NaN</td>\n",
              "      <td>NaN</td>\n",
              "      <td>NaN</td>\n",
              "      <td>0.000000e+00</td>\n",
              "      <td>0.000000</td>\n",
              "      <td>NaN</td>\n",
              "      <td>NaN</td>\n",
              "      <td>1.534802e+07</td>\n",
              "      <td>NaN</td>\n",
              "      <td>NaN</td>\n",
              "    </tr>\n",
              "    <tr>\n",
              "      <th>25%</th>\n",
              "      <td>12113.500000</td>\n",
              "      <td>NaN</td>\n",
              "      <td>NaN</td>\n",
              "      <td>NaN</td>\n",
              "      <td>NaN</td>\n",
              "      <td>0.000000e+00</td>\n",
              "      <td>0.000000</td>\n",
              "      <td>NaN</td>\n",
              "      <td>NaN</td>\n",
              "      <td>3.938667e+07</td>\n",
              "      <td>NaN</td>\n",
              "      <td>NaN</td>\n",
              "    </tr>\n",
              "    <tr>\n",
              "      <th>50%</th>\n",
              "      <td>12119.000000</td>\n",
              "      <td>NaN</td>\n",
              "      <td>NaN</td>\n",
              "      <td>NaN</td>\n",
              "      <td>NaN</td>\n",
              "      <td>3.073000e+03</td>\n",
              "      <td>0.000000</td>\n",
              "      <td>NaN</td>\n",
              "      <td>NaN</td>\n",
              "      <td>8.375908e+08</td>\n",
              "      <td>NaN</td>\n",
              "      <td>NaN</td>\n",
              "    </tr>\n",
              "    <tr>\n",
              "      <th>75%</th>\n",
              "      <td>12708.500000</td>\n",
              "      <td>NaN</td>\n",
              "      <td>NaN</td>\n",
              "      <td>NaN</td>\n",
              "      <td>NaN</td>\n",
              "      <td>1.206272e+05</td>\n",
              "      <td>45.735000</td>\n",
              "      <td>NaN</td>\n",
              "      <td>NaN</td>\n",
              "      <td>2.322155e+09</td>\n",
              "      <td>NaN</td>\n",
              "      <td>NaN</td>\n",
              "    </tr>\n",
              "    <tr>\n",
              "      <th>max</th>\n",
              "      <td>18959.000000</td>\n",
              "      <td>NaN</td>\n",
              "      <td>NaN</td>\n",
              "      <td>NaN</td>\n",
              "      <td>NaN</td>\n",
              "      <td>2.187863e+06</td>\n",
              "      <td>7269.000000</td>\n",
              "      <td>NaN</td>\n",
              "      <td>NaN</td>\n",
              "      <td>1.376828e+10</td>\n",
              "      <td>NaN</td>\n",
              "      <td>NaN</td>\n",
              "    </tr>\n",
              "  </tbody>\n",
              "</table>\n",
              "</div>\n",
              "      <button class=\"colab-df-convert\" onclick=\"convertToInteractive('df-83df6c7e-b3f4-4ef9-9301-04980f870fba')\"\n",
              "              title=\"Convert this dataframe to an interactive table.\"\n",
              "              style=\"display:none;\">\n",
              "        \n",
              "  <svg xmlns=\"http://www.w3.org/2000/svg\" height=\"24px\"viewBox=\"0 0 24 24\"\n",
              "       width=\"24px\">\n",
              "    <path d=\"M0 0h24v24H0V0z\" fill=\"none\"/>\n",
              "    <path d=\"M18.56 5.44l.94 2.06.94-2.06 2.06-.94-2.06-.94-.94-2.06-.94 2.06-2.06.94zm-11 1L8.5 8.5l.94-2.06 2.06-.94-2.06-.94L8.5 2.5l-.94 2.06-2.06.94zm10 10l.94 2.06.94-2.06 2.06-.94-2.06-.94-.94-2.06-.94 2.06-2.06.94z\"/><path d=\"M17.41 7.96l-1.37-1.37c-.4-.4-.92-.59-1.43-.59-.52 0-1.04.2-1.43.59L10.3 9.45l-7.72 7.72c-.78.78-.78 2.05 0 2.83L4 21.41c.39.39.9.59 1.41.59.51 0 1.02-.2 1.41-.59l7.78-7.78 2.81-2.81c.8-.78.8-2.07 0-2.86zM5.41 20L4 18.59l7.72-7.72 1.47 1.35L5.41 20z\"/>\n",
              "  </svg>\n",
              "      </button>\n",
              "      \n",
              "  <style>\n",
              "    .colab-df-container {\n",
              "      display:flex;\n",
              "      flex-wrap:wrap;\n",
              "      gap: 12px;\n",
              "    }\n",
              "\n",
              "    .colab-df-convert {\n",
              "      background-color: #E8F0FE;\n",
              "      border: none;\n",
              "      border-radius: 50%;\n",
              "      cursor: pointer;\n",
              "      display: none;\n",
              "      fill: #1967D2;\n",
              "      height: 32px;\n",
              "      padding: 0 0 0 0;\n",
              "      width: 32px;\n",
              "    }\n",
              "\n",
              "    .colab-df-convert:hover {\n",
              "      background-color: #E2EBFA;\n",
              "      box-shadow: 0px 1px 2px rgba(60, 64, 67, 0.3), 0px 1px 3px 1px rgba(60, 64, 67, 0.15);\n",
              "      fill: #174EA6;\n",
              "    }\n",
              "\n",
              "    [theme=dark] .colab-df-convert {\n",
              "      background-color: #3B4455;\n",
              "      fill: #D2E3FC;\n",
              "    }\n",
              "\n",
              "    [theme=dark] .colab-df-convert:hover {\n",
              "      background-color: #434B5C;\n",
              "      box-shadow: 0px 1px 3px 1px rgba(0, 0, 0, 0.15);\n",
              "      filter: drop-shadow(0px 1px 2px rgba(0, 0, 0, 0.3));\n",
              "      fill: #FFFFFF;\n",
              "    }\n",
              "  </style>\n",
              "\n",
              "      <script>\n",
              "        const buttonEl =\n",
              "          document.querySelector('#df-83df6c7e-b3f4-4ef9-9301-04980f870fba button.colab-df-convert');\n",
              "        buttonEl.style.display =\n",
              "          google.colab.kernel.accessAllowed ? 'block' : 'none';\n",
              "\n",
              "        async function convertToInteractive(key) {\n",
              "          const element = document.querySelector('#df-83df6c7e-b3f4-4ef9-9301-04980f870fba');\n",
              "          const dataTable =\n",
              "            await google.colab.kernel.invokeFunction('convertToInteractive',\n",
              "                                                     [key], {});\n",
              "          if (!dataTable) return;\n",
              "\n",
              "          const docLinkHtml = 'Like what you see? Visit the ' +\n",
              "            '<a target=\"_blank\" href=https://colab.research.google.com/notebooks/data_table.ipynb>data table notebook</a>'\n",
              "            + ' to learn more about interactive tables.';\n",
              "          element.innerHTML = '';\n",
              "          dataTable['output_type'] = 'display_data';\n",
              "          await google.colab.output.renderOutput(dataTable, element);\n",
              "          const docLink = document.createElement('div');\n",
              "          docLink.innerHTML = docLinkHtml;\n",
              "          element.appendChild(docLink);\n",
              "        }\n",
              "      </script>\n",
              "    </div>\n",
              "  </div>\n",
              "  "
            ]
          },
          "metadata": {},
          "execution_count": 11
        }
      ]
    },
    {
      "cell_type": "code",
      "source": [
        "df.shape"
      ],
      "metadata": {
        "id": "r-eZ57iQaGMQ",
        "colab": {
          "base_uri": "https://localhost:8080/"
        },
        "outputId": "111d6f0d-ffe7-476f-b118-1e486c7de71e"
      },
      "execution_count": 12,
      "outputs": [
        {
          "output_type": "execute_result",
          "data": {
            "text/plain": [
              "(23, 12)"
            ]
          },
          "metadata": {},
          "execution_count": 12
        }
      ]
    },
    {
      "cell_type": "code",
      "source": [
        "#Plotting\n",
        "sb.set()\n",
        "correlacion = df.corr()\n",
        "correlacion\n",
        "sb.heatmap(correlacion,xticklabels=correlacion.columns,yticklabels=correlacion.columns,annot=True)\n",
        "     "
      ],
      "metadata": {
        "colab": {
          "base_uri": "https://localhost:8080/",
          "height": 620
        },
        "id": "3k5jSFikrFQb",
        "outputId": "789bc7aa-f979-44c0-bd43-eb02e3ccc8d7"
      },
      "execution_count": 19,
      "outputs": [
        {
          "output_type": "stream",
          "name": "stderr",
          "text": [
            "<ipython-input-19-5a0820fd923b>:3: FutureWarning: The default value of numeric_only in DataFrame.corr is deprecated. In a future version, it will default to False. Select only valid columns or specify the value of numeric_only to silence this warning.\n",
            "  correlacion = df.corr()\n"
          ]
        },
        {
          "output_type": "execute_result",
          "data": {
            "text/plain": [
              "<Axes: >"
            ]
          },
          "metadata": {},
          "execution_count": 19
        },
        {
          "output_type": "display_data",
          "data": {
            "text/plain": [
              "<Figure size 640x480 with 2 Axes>"
            ],
            "image/png": "[encoded data removed]"
          },
          "metadata": {}
        }
      ]
    },
    {
      "cell_type": "code",
      "source": [
        "\n",
        "sb.relplot(x='Area Construida' ,y='Area Terreno',hue='Precio',data=df)"
      ],
      "metadata": {
        "colab": {
          "base_uri": "https://localhost:8080/",
          "height": 517
        },
        "id": "FAF4HuROsqKJ",
        "outputId": "ef04a5ec-1ec7-45b9-f2a4-5647ecfc6558"
      },
      "execution_count": 20,
      "outputs": [
        {
          "output_type": "execute_result",
          "data": {
            "text/plain": [
              "<seaborn.axisgrid.FacetGrid at 0x7fa22145b7f0>"
            ]
          },
          "metadata": {},
          "execution_count": 20
        },
        {
          "output_type": "display_data",
          "data": {
            "text/plain": [
              "<Figure size 660.875x500 with 1 Axes>"
            ],
            "image/png": "[encoded data removed]"
          },
          "metadata": {}
        }
      ]
    },
    {
      "cell_type": "code",
      "source": [
        "\n",
        "sb.relplot(x='Area Terreno' ,y='Precio',hue='Estrato',data=df)"
      ],
      "metadata": {
        "colab": {
          "base_uri": "https://localhost:8080/",
          "height": 517
        },
        "id": "lz7HbtrL8zu_",
        "outputId": "d6b1fb9a-0fed-43a4-b23d-da6d74ea143e"
      },
      "execution_count": 21,
      "outputs": [
        {
          "output_type": "execute_result",
          "data": {
            "text/plain": [
              "<seaborn.axisgrid.FacetGrid at 0x7fa22138bd30>"
            ]
          },
          "metadata": {},
          "execution_count": 21
        },
        {
          "output_type": "display_data",
          "data": {
            "text/plain": [
              "<Figure size 644.25x500 with 1 Axes>"
            ],
            "image/png": "[encoded data removed]"
          },
          "metadata": {}
        }
      ]
    },
    {
      "cell_type": "code",
      "source": [
        "sb.countplot(data=df, x=\"Estrato\", width=0.7)"
      ],
      "metadata": {
        "colab": {
          "base_uri": "https://localhost:8080/",
          "height": 475
        },
        "id": "CQBG8DIS-clv",
        "outputId": "8e1acb7a-fb79-4cd3-f5e0-0149181da87d"
      },
      "execution_count": 22,
      "outputs": [
        {
          "output_type": "execute_result",
          "data": {
            "text/plain": [
              "<Axes: xlabel='Estrato', ylabel='count'>"
            ]
          },
          "metadata": {},
          "execution_count": 22
        },
        {
          "output_type": "display_data",
          "data": {
            "text/plain": [
              "<Figure size 640x480 with 1 Axes>"
            ],
            "image/png": "[encoded data removed]"
          },
          "metadata": {}
        }
      ]
    },
    {
      "cell_type": "code",
      "source": [
        "sb.set()\n",
        "sb.countplot(data=df, x=\"Ciudad\", width=0.7 )"
      ],
      "metadata": {
        "colab": {
          "base_uri": "https://localhost:8080/",
          "height": 475
        },
        "id": "867kbJqLYvo8",
        "outputId": "ac311ec3-ca65-472b-c319-c0897375118e"
      },
      "execution_count": 34,
      "outputs": [
        {
          "output_type": "execute_result",
          "data": {
            "text/plain": [
              "<Axes: xlabel='Ciudad', ylabel='count'>"
            ]
          },
          "metadata": {},
          "execution_count": 34
        },
        {
          "output_type": "display_data",
          "data": {
            "text/plain": [
              "<Figure size 640x480 with 1 Axes>"
            ],
            "image/png": "[encoded data removed]"
          },
          "metadata": {}
        }
      ]
    }
  ]
}